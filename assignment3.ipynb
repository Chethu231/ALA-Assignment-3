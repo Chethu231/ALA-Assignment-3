{
 "cells": [
  {
   "cell_type": "code",
   "execution_count": 6,
   "metadata": {},
   "outputs": [],
   "source": [
    "import numpy as np\n",
    "import pandas as pd\n",
    "import random"
   ]
  },
  {
   "cell_type": "code",
   "execution_count": 4,
   "metadata": {},
   "outputs": [],
   "source": [
    "df = pd.read_csv(\"moviereviews.csv\")  "
   ]
  },
  {
   "cell_type": "code",
   "execution_count": 5,
   "metadata": {},
   "outputs": [],
   "source": [
    "movies = df[\"movie\"].tolist()\n"
   ]
  },
  {
   "cell_type": "markdown",
   "metadata": {},
   "source": [
    "Create a dictionary to store movie vectors"
   ]
  },
  {
   "cell_type": "code",
   "execution_count": 13,
   "metadata": {},
   "outputs": [],
   "source": [
    "movie_vectors = {}\n",
    "\n",
    "for movie in movies:\n",
    "    vector = np.array([random.random() for _ in range(500)])\n",
    "    movie_vectors[movie] = vector"
   ]
  },
  {
   "cell_type": "markdown",
   "metadata": {},
   "source": [
    " Calculate similarities between movies"
   ]
  },
  {
   "cell_type": "code",
   "execution_count": 14,
   "metadata": {},
   "outputs": [],
   "source": [
    "\n",
    "similar_movies = [\n",
    "    (movie1, movie2, np.arccos(np.dot(movie_vectors[movie1], movie_vectors[movie2]) /\n",
    "                               (np.linalg.norm(movie_vectors[movie1]) * np.linalg.norm(movie_vectors[movie2]))))\n",
    "    for movie1 in movie_vectors\n",
    "    for movie2 in movie_vectors if movie1 != movie2\n",
    "]"
   ]
  },
  {
   "cell_type": "markdown",
   "metadata": {},
   "source": [
    "Sort the similarities"
   ]
  },
  {
   "cell_type": "code",
   "execution_count": 15,
   "metadata": {},
   "outputs": [],
   "source": [
    "similar_movies.sort(key=lambda x: x[2])\n"
   ]
  },
  {
   "cell_type": "markdown",
   "metadata": {},
   "source": [
    "Print top similar movie pairs"
   ]
  },
  {
   "cell_type": "code",
   "execution_count": 16,
   "metadata": {},
   "outputs": [
    {
     "name": "stdout",
     "output_type": "stream",
     "text": [
      "Top similar movie pairs:\n",
      "Movies 'Three colors red' and 'Before Sunrise' with angle similarity of 0.68 radians.\n",
      "Movies 'Before Sunrise' and 'Three colors red' with angle similarity of 0.68 radians.\n",
      "Movies 'Spiderman Across the spider verse' and 'Before Sunrise' with angle similarity of 0.69 radians.\n"
     ]
    }
   ],
   "source": [
    "print(\"Top similar movie pairs:\")\n",
    "for pair in similar_movies[:3]:\n",
    "    print(f\"Movies '{pair[0]}' and '{pair[1]}' with angle similarity of {pair[2]:.2f} radians.\")"
   ]
  }
 ],
 "metadata": {
  "kernelspec": {
   "display_name": "base",
   "language": "python",
   "name": "python3"
  },
  "language_info": {
   "codemirror_mode": {
    "name": "ipython",
    "version": 3
   },
   "file_extension": ".py",
   "mimetype": "text/x-python",
   "name": "python",
   "nbconvert_exporter": "python",
   "pygments_lexer": "ipython3",
   "version": "3.11.4"
  },
  "orig_nbformat": 4
 },
 "nbformat": 4,
 "nbformat_minor": 2
}
